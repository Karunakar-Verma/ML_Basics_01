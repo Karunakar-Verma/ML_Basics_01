{
 "cells": [
  {
   "cell_type": "markdown",
   "id": "b816d09a",
   "metadata": {},
   "source": [
    "# ML_1  Basics "
   ]
  },
  {
   "cell_type": "code",
   "execution_count": 1,
   "id": "dfb55699",
   "metadata": {
    "scrolled": true
   },
   "outputs": [
    {
     "ename": "SyntaxError",
     "evalue": "cannot assign to operator (4111036609.py, line 1)",
     "output_type": "error",
     "traceback": [
      "\u001b[1;36m  Cell \u001b[1;32mIn[1], line 1\u001b[1;36m\u001b[0m\n\u001b[1;33m    QD- E=plain thK followin* with an K=amplK-F\u001b[0m\n\u001b[1;37m    ^\u001b[0m\n\u001b[1;31mSyntaxError\u001b[0m\u001b[1;31m:\u001b[0m cannot assign to operator\n"
     ]
    }
   ],
   "source": [
    "QD- E=plain thK followin* with an K=amplK-F\n",
    "C) Artificial Intelligence,\n",
    "<) Machine Learnin,\n",
    "I) Deep Learning"
   ]
  },
  {
   "cell_type": "code",
   "execution_count": 2,
   "id": "2027b57d",
   "metadata": {},
   "outputs": [
    {
     "ename": "SyntaxError",
     "evalue": "invalid syntax (2439810345.py, line 1)",
     "output_type": "error",
     "traceback": [
      "\u001b[1;36m  Cell \u001b[1;32mIn[2], line 1\u001b[1;36m\u001b[0m\n\u001b[1;33m    Artificial Intelligence (AI):\u001b[0m\n\u001b[1;37m               ^\u001b[0m\n\u001b[1;31mSyntaxError\u001b[0m\u001b[1;31m:\u001b[0m invalid syntax\n"
     ]
    }
   ],
   "source": [
    "\n",
    "\n",
    "\n",
    "AI is the broad field focused on creating intelligent systems that can simulate human-like intelligence and reasoning.\n",
    "It encompasses a wide range of techniques, including rule-based systems, expert systems, natural language processing, computer vision, and more.\n",
    "Machine Learning (ML):\n",
    "\n",
    "ML is a subset of AI that involves training computer systems to learn from data and make predictions or decisions without being explicitly programmed.\n",
    "ML techniques include decision trees, random forests, support vector machines, and various types of algorithms.\n",
    "Deep Learning (DL):\n",
    "\n",
    "DL is a subfield of ML that uses neural networks with multiple layers (deep neural networks) to automatically learn patterns from data.\n",
    "It excels in tasks like image and speech recognition, natural language processing, and has gained prominence due to its ability to handle complex data representations."
   ]
  },
  {
   "cell_type": "code",
   "execution_count": 3,
   "id": "d6f8a94c",
   "metadata": {},
   "outputs": [
    {
     "ename": "SyntaxError",
     "evalue": "invalid syntax (806347872.py, line 1)",
     "output_type": "error",
     "traceback": [
      "\u001b[1;36m  Cell \u001b[1;32mIn[3], line 1\u001b[1;36m\u001b[0m\n\u001b[1;33m    What is supervised learning ? List some examples of supervised learning.\u001b[0m\n\u001b[1;37m                       ^\u001b[0m\n\u001b[1;31mSyntaxError\u001b[0m\u001b[1;31m:\u001b[0m invalid syntax\n"
     ]
    }
   ],
   "source": [
    "What is supervised learning ? List some examples of supervised learning."
   ]
  },
  {
   "cell_type": "code",
   "execution_count": 4,
   "id": "406231bd",
   "metadata": {},
   "outputs": [
    {
     "ename": "SyntaxError",
     "evalue": "invalid syntax (3804296285.py, line 1)",
     "output_type": "error",
     "traceback": [
      "\u001b[1;36m  Cell \u001b[1;32mIn[4], line 1\u001b[1;36m\u001b[0m\n\u001b[1;33m    Supervised learning is a type of machine learning where an algorithm learns from labeled data, meaning it is provided with input-output pairs (features and their corresponding target labels) to make predictions or decisions. The algorithm generalizes from the labeled data to make predictions on new, unseen data.\u001b[0m\n\u001b[1;37m               ^\u001b[0m\n\u001b[1;31mSyntaxError\u001b[0m\u001b[1;31m:\u001b[0m invalid syntax\n"
     ]
    }
   ],
   "source": [
    "Supervised learning is a type of machine learning where an algorithm learns from labeled data, meaning it is provided with input-output pairs (features and their corresponding target labels) to make predictions or decisions. The algorithm generalizes from the labeled data to make predictions on new, unseen data.\n",
    "\n",
    "Examples of supervised learning include:\n",
    "\n",
    "Image Classification: Training a model to identify objects in images, such as categorizing whether an image contains a cat or a dog.\n",
    "\n",
    "Sentiment Analysis: Analyzing text data to determine the sentiment (positive, negative, neutral) of a given text, like product reviews or social media posts.\n",
    "\n",
    "Spam Email Detection: Building a model to classify emails as either spam or not based on their content and characteristics.\n",
    "\n",
    "Predicting House Prices: Using features like the number of bedrooms, square footage, and location to predict the sale price of a house.\n",
    "\n",
    "Language Translation: Translating text from one language to another, given a parallel corpus of translated text.\n",
    "\n",
    "Handwriting Recognition: Converting handwritten text into machine-readable text, such as digitizing handwritten notes.\n",
    "\n",
    "Medical Diagnosis: Predicting the presence or absence of a disease based on patient data and medical test results.\n",
    "\n",
    "Credit Scoring: Evaluating the creditworthiness of individuals based on financial and personal information."
   ]
  },
  {
   "cell_type": "code",
   "execution_count": 5,
   "id": "debff98a",
   "metadata": {},
   "outputs": [
    {
     "ename": "SyntaxError",
     "evalue": "invalid syntax (1439194127.py, line 1)",
     "output_type": "error",
     "traceback": [
      "\u001b[1;36m  Cell \u001b[1;32mIn[5], line 1\u001b[1;36m\u001b[0m\n\u001b[1;33m    What is unsupervised learning ? List some examples of unsupervised learning.\u001b[0m\n\u001b[1;37m                         ^\u001b[0m\n\u001b[1;31mSyntaxError\u001b[0m\u001b[1;31m:\u001b[0m invalid syntax\n"
     ]
    }
   ],
   "source": [
    "What is unsupervised learning ? List some examples of unsupervised learning."
   ]
  },
  {
   "cell_type": "code",
   "execution_count": 6,
   "id": "fed73717",
   "metadata": {},
   "outputs": [
    {
     "ename": "SyntaxError",
     "evalue": "invalid syntax (860103305.py, line 1)",
     "output_type": "error",
     "traceback": [
      "\u001b[1;36m  Cell \u001b[1;32mIn[6], line 1\u001b[1;36m\u001b[0m\n\u001b[1;33m    Unsupervised learning is a type of machine learning where the algorithm is provided with input data but without explicit instructions on what to do with it. The algorithm's goal is to find patterns, structures, or relationships within the data on its own, without the guidance of labeled output. Unsupervised learning is often used for data exploration, dimensionality reduction, and clustering.\u001b[0m\n\u001b[1;37m                 ^\u001b[0m\n\u001b[1;31mSyntaxError\u001b[0m\u001b[1;31m:\u001b[0m invalid syntax\n"
     ]
    }
   ],
   "source": [
    "\n",
    "Unsupervised learning is a type of machine learning where the algorithm is provided with input data but without explicit instructions on what to do with it. The algorithm's goal is to find patterns, structures, or relationships within the data on its own, without the guidance of labeled output. Unsupervised learning is often used for data exploration, dimensionality reduction, and clustering.\n",
    "\n",
    "Examples of unsupervised learning include:\n",
    "\n",
    "Clustering: Grouping similar data points together based on their inherent characteristics. Examples include K-Means clustering for customer segmentation and hierarchical clustering for taxonomies.\n",
    "\n",
    "Dimensionality Reduction: Techniques like Principal Component Analysis (PCA) or t-SNE reduce the number of features in a dataset while retaining important information.\n",
    "\n",
    "Anomaly Detection: Identifying unusual patterns or data points in a dataset, which could indicate errors, fraud, or rare events.\n",
    "\n",
    "Topic Modeling: Discovering hidden topics or themes within a collection of documents, often used in natural language processing.\n",
    "\n",
    "Density Estimation: Estimating the probability distribution of data points within a dataset, which can be used for various tasks, including data generation and anomaly detection.\n",
    "\n",
    "Recommendation Systems: Using collaborative filtering or content-based methods to make recommendations without labeled feedback on the preferences of users.\n",
    "\n",
    "Principal Component Analysis (PCA): Reducing the dimensionality of data while preserving its most important features by finding linear combinations of variables.\n",
    "\n",
    "Generative Adversarial Networks (GANs): A class of models used for generating new data samples, such as images, text, or audio."
   ]
  },
  {
   "cell_type": "code",
   "execution_count": 7,
   "id": "83ee509a",
   "metadata": {},
   "outputs": [
    {
     "ename": "SyntaxError",
     "evalue": "invalid syntax (3191765771.py, line 1)",
     "output_type": "error",
     "traceback": [
      "\u001b[1;36m  Cell \u001b[1;32mIn[7], line 1\u001b[1;36m\u001b[0m\n\u001b[1;33m    What is difference between AI ,ML DL , DS ?\u001b[0m\n\u001b[1;37m                       ^\u001b[0m\n\u001b[1;31mSyntaxError\u001b[0m\u001b[1;31m:\u001b[0m invalid syntax\n"
     ]
    }
   ],
   "source": [
    "What is difference between AI ,ML DL , DS ?"
   ]
  },
  {
   "cell_type": "code",
   "execution_count": 8,
   "id": "af411afe",
   "metadata": {},
   "outputs": [
    {
     "ename": "SyntaxError",
     "evalue": "invalid syntax (241730285.py, line 1)",
     "output_type": "error",
     "traceback": [
      "\u001b[1;36m  Cell \u001b[1;32mIn[8], line 1\u001b[1;36m\u001b[0m\n\u001b[1;33m    AI (Artificial Intelligence): The broad field of creating intelligent systems that can mimic human-like intelligence.\u001b[0m\n\u001b[1;37m                   ^\u001b[0m\n\u001b[1;31mSyntaxError\u001b[0m\u001b[1;31m:\u001b[0m invalid syntax\n"
     ]
    }
   ],
   "source": [
    "AI (Artificial Intelligence): The broad field of creating intelligent systems that can mimic human-like intelligence.\n",
    "\n",
    "ML (Machine Learning): A subset of AI that trains systems to learn from data and make predictions without explicit programming.\n",
    "\n",
    "DL (Deep Learning): A subfield of ML that uses deep neural networks to automatically learn complex patterns from data.\n",
    "\n",
    "DS (Data Science): The interdisciplinary field focused on extracting knowledge and insights from data, which can involve AI, ML, and DL, but also includes data analysis, statistics, and domain expertise."
   ]
  },
  {
   "cell_type": "code",
   "execution_count": 9,
   "id": "8021cb1c",
   "metadata": {},
   "outputs": [
    {
     "ename": "SyntaxError",
     "evalue": "invalid syntax (2943911951.py, line 1)",
     "output_type": "error",
     "traceback": [
      "\u001b[1;36m  Cell \u001b[1;32mIn[9], line 1\u001b[1;36m\u001b[0m\n\u001b[1;33m    What are the main diffrences between supervised  , unsupervised , semi-supervised learning ?\u001b[0m\n\u001b[1;37m         ^\u001b[0m\n\u001b[1;31mSyntaxError\u001b[0m\u001b[1;31m:\u001b[0m invalid syntax\n"
     ]
    }
   ],
   "source": [
    "What are the main diffrences between supervised  , unsupervised , semi-supervised learning ?"
   ]
  },
  {
   "cell_type": "code",
   "execution_count": 10,
   "id": "e992f34c",
   "metadata": {},
   "outputs": [
    {
     "ename": "SyntaxError",
     "evalue": "invalid syntax (805907229.py, line 1)",
     "output_type": "error",
     "traceback": [
      "\u001b[1;36m  Cell \u001b[1;32mIn[10], line 1\u001b[1;36m\u001b[0m\n\u001b[1;33m    Supervised Learning: Learns from labeled data to make predictions or classifications.\u001b[0m\n\u001b[1;37m               ^\u001b[0m\n\u001b[1;31mSyntaxError\u001b[0m\u001b[1;31m:\u001b[0m invalid syntax\n"
     ]
    }
   ],
   "source": [
    "Supervised Learning: Learns from labeled data to make predictions or classifications.\n",
    "\n",
    "Unsupervised Learning: Works with unlabeled data to discover patterns or structures in the data.\n",
    "\n",
    "Semi-Supervised Learning: Utilizes a combination of labeled and unlabeled data to improve learning and predictions."
   ]
  },
  {
   "cell_type": "code",
   "execution_count": 11,
   "id": "e459e568",
   "metadata": {},
   "outputs": [
    {
     "ename": "SyntaxError",
     "evalue": "invalid syntax (3324239939.py, line 1)",
     "output_type": "error",
     "traceback": [
      "\u001b[1;36m  Cell \u001b[1;32mIn[11], line 1\u001b[1;36m\u001b[0m\n\u001b[1;33m    What is train , test and validation split ? Explain the importance of each term .\u001b[0m\n\u001b[1;37m                                              ^\u001b[0m\n\u001b[1;31mSyntaxError\u001b[0m\u001b[1;31m:\u001b[0m invalid syntax\n"
     ]
    }
   ],
   "source": [
    "What is train , test and validation split ? Explain the importance of each term ."
   ]
  },
  {
   "cell_type": "code",
   "execution_count": 12,
   "id": "59ffd7ec",
   "metadata": {},
   "outputs": [
    {
     "ename": "SyntaxError",
     "evalue": "invalid syntax (2859394488.py, line 1)",
     "output_type": "error",
     "traceback": [
      "\u001b[1;36m  Cell \u001b[1;32mIn[12], line 1\u001b[1;36m\u001b[0m\n\u001b[1;33m    Training Data: The portion of the dataset used to train a machine learning model, enabling it to learn patterns and relationships in the data.\u001b[0m\n\u001b[1;37m             ^\u001b[0m\n\u001b[1;31mSyntaxError\u001b[0m\u001b[1;31m:\u001b[0m invalid syntax\n"
     ]
    }
   ],
   "source": [
    "Training Data: The portion of the dataset used to train a machine learning model, enabling it to learn patterns and relationships in the data.\n",
    "\n",
    "Testing Data: A separate part of the dataset used to evaluate the model's performance and assess its ability to make accurate predictions on new, unseen data.\n",
    "\n",
    "Validation Data: A subset of the data used to fine-tune and optimize the model during training. It helps prevent overfitting and ensures the model generalizes well to new data.\n",
    "\n",
    "Importance:\n",
    "\n",
    "Training Data: Teaches the model to learn from data.\n",
    "Testing Data: Measures the model's performance and generalization.\n",
    "Validation Data: Assists in hyperparameter tuning and prevents overfitting, ensuring a robust and accurate model."
   ]
  },
  {
   "cell_type": "code",
   "execution_count": 13,
   "id": "2768087e",
   "metadata": {},
   "outputs": [
    {
     "ename": "SyntaxError",
     "evalue": "invalid syntax (2448379717.py, line 1)",
     "output_type": "error",
     "traceback": [
      "\u001b[1;36m  Cell \u001b[1;32mIn[13], line 1\u001b[1;36m\u001b[0m\n\u001b[1;33m    What can unsupervised learning be used in anomaly detectin ?\u001b[0m\n\u001b[1;37m         ^\u001b[0m\n\u001b[1;31mSyntaxError\u001b[0m\u001b[1;31m:\u001b[0m invalid syntax\n"
     ]
    }
   ],
   "source": [
    "What can unsupervised learning be used in anomaly detectin ?"
   ]
  },
  {
   "cell_type": "code",
   "execution_count": 14,
   "id": "431b1364",
   "metadata": {},
   "outputs": [
    {
     "ename": "SyntaxError",
     "evalue": "invalid syntax (1233795437.py, line 1)",
     "output_type": "error",
     "traceback": [
      "\u001b[1;36m  Cell \u001b[1;32mIn[14], line 1\u001b[1;36m\u001b[0m\n\u001b[1;33m    Unsupervised learning is commonly used in anomaly detection because it can discover patterns and structures in data without requiring labeled examples of anomalies. Here's how unsupervised learning is employed for anomaly detection:\u001b[0m\n\u001b[1;37m                 ^\u001b[0m\n\u001b[1;31mSyntaxError\u001b[0m\u001b[1;31m:\u001b[0m invalid syntax\n"
     ]
    }
   ],
   "source": [
    "Unsupervised learning is commonly used in anomaly detection because it can discover patterns and structures in data without requiring labeled examples of anomalies. Here's how unsupervised learning is employed for anomaly detection:\n",
    "\n",
    "Data Exploration: Unsupervised learning helps identify the normal behavior or patterns within a dataset, allowing the algorithm to learn what is considered \"normal.\"\n",
    "\n",
    "Clustering: Unsupervised algorithms can group similar data points together. Anomalies are often those data points that don't fit into any cluster and are far from the cluster centers.\n",
    "\n",
    "Density Estimation: Unsupervised methods can estimate the probability distribution of data points. Anomalies are often associated with low-probability regions, making them stand out.\n",
    "\n",
    "Dimensionality Reduction: Techniques like PCA or t-SNE can help visualize data in lower dimensions, making it easier to spot anomalies or clusters of unusual data points.\n",
    "\n",
    "Autoencoders: These neural network architectures can learn to encode and decode data. Anomalies might not decode well, showing differences between the original and reconstructed data."
   ]
  },
  {
   "cell_type": "code",
   "execution_count": 15,
   "id": "41910fa7",
   "metadata": {},
   "outputs": [
    {
     "ename": "SyntaxError",
     "evalue": "invalid syntax (2570461878.py, line 1)",
     "output_type": "error",
     "traceback": [
      "\u001b[1;36m  Cell \u001b[1;32mIn[15], line 1\u001b[1;36m\u001b[0m\n\u001b[1;33m    List down some commonly used supervise learning algo ans unsupervised learning algo .\u001b[0m\n\u001b[1;37m         ^\u001b[0m\n\u001b[1;31mSyntaxError\u001b[0m\u001b[1;31m:\u001b[0m invalid syntax\n"
     ]
    }
   ],
   "source": [
    "List down some commonly used supervise learning algo ans unsupervised learning algo ."
   ]
  },
  {
   "cell_type": "code",
   "execution_count": 16,
   "id": "58274ba6",
   "metadata": {},
   "outputs": [
    {
     "ename": "SyntaxError",
     "evalue": "invalid syntax (2198428629.py, line 1)",
     "output_type": "error",
     "traceback": [
      "\u001b[1;36m  Cell \u001b[1;32mIn[16], line 1\u001b[1;36m\u001b[0m\n\u001b[1;33m    Supervised Learning Algorithms:\u001b[0m\n\u001b[1;37m               ^\u001b[0m\n\u001b[1;31mSyntaxError\u001b[0m\u001b[1;31m:\u001b[0m invalid syntax\n"
     ]
    }
   ],
   "source": [
    "Supervised Learning Algorithms:\n",
    "\n",
    "Linear Regression\n",
    "Logistic Regression\n",
    "Decision Trees\n",
    "Random Forest\n",
    "Support Vector Machines (SVM)\n",
    "k-Nearest Neighbors (k-NN)\n",
    "Naive Bayes\n",
    "Neural Networks\n",
    "Unsupervised Learning Algorithms:\n",
    "\n",
    "K-Means Clustering\n",
    "Hierarchical Clustering\n",
    "Principal Component Analysis (PCA)\n",
    "t-Distributed Stochastic Neighbor Embedding (t-SNE)\n",
    "Gaussian Mixture Models (GMM)\n",
    "Autoencoders\n",
    "DBSCAN (Density-Based Spatial Clustering of Applications with Noise)\n",
    "Apriori (for Association Rule Mining)"
   ]
  },
  {
   "cell_type": "code",
   "execution_count": null,
   "id": "767ad13c",
   "metadata": {},
   "outputs": [],
   "source": []
  }
 ],
 "metadata": {
  "kernelspec": {
   "display_name": "Python 3 (ipykernel)",
   "language": "python",
   "name": "python3"
  },
  "language_info": {
   "codemirror_mode": {
    "name": "ipython",
    "version": 3
   },
   "file_extension": ".py",
   "mimetype": "text/x-python",
   "name": "python",
   "nbconvert_exporter": "python",
   "pygments_lexer": "ipython3",
   "version": "3.9.13"
  }
 },
 "nbformat": 4,
 "nbformat_minor": 5
}
